{
 "cells": [
  {
   "cell_type": "markdown",
   "id": "22e8758b-3812-4ab6-8dae-30b8b519f460",
   "metadata": {},
   "source": [
    "$ \\[\n",
    "\\begin{bmatrix}\n",
    "2 & 4 \\\\\n",
    "6 & 2\n",
    "\\end{bmatrix}\n",
    "\\begin{bmatrix}\n",
    "x \\\\\n",
    "y\n",
    "\\end{bmatrix}\n",
    "=\n",
    "\\begin{bmatrix}\n",
    "5 \\\\\n",
    "7\n",
    "\\end{bmatrix}\n",
    "\\]\n",
    "\n",
    "\\[\n",
    "A =\n",
    "\\begin{bmatrix}\n",
    "2 & 4 \\\\\n",
    "6 & 2\n",
    "\\end{bmatrix},\n",
    "\\quad\n",
    "X =\n",
    "\\begin{bmatrix}\n",
    "x \\\\\n",
    "y\n",
    "\\end{bmatrix},\n",
    "\\quad\n",
    "B =\n",
    "\\begin{bmatrix}\n",
    "5 \\\\\n",
    "7\n",
    "\\end{bmatrix}\n",
    "\\]\n",
    "\n",
    "\\[\n",
    "AX = B \\quad \\Rightarrow \\quad X = A^{-1}B\n",
    "\\]\n",
    "\n",
    "\\[\n",
    "A^{-1} =\n",
    "\\frac{1}{(2)(2) - (6)(4)}\n",
    "\\begin{bmatrix}\n",
    "2 & -4 \\\\\n",
    "-6 & 2\n",
    "\\end{bmatrix}\n",
    "=\n",
    "\\frac{1}{-20}\n",
    "\\begin{bmatrix}\n",
    "2 & -4 \\\\\n",
    "-6 & 2\n",
    "\\end{bmatrix}\n",
    "\\]\n",
    "\n",
    "\\[\n",
    "X =\n",
    "\\frac{1}{-20}\n",
    "\\begin{bmatrix}\n",
    "2 & -4 \\\\\n",
    "-6 & 2\n",
    "\\end{bmatrix}\n",
    "\\begin{bmatrix}\n",
    "5 \\\\\n",
    "7\n",
    "\\end{bmatrix}\n",
    "=\n",
    "\\frac{1}{-20}\n",
    "\\begin{bmatrix}\n",
    "2\\cdot 5 + (-4)\\cdot 7 \\\\\n",
    "-6\\cdot 5 + 2\\cdot 7\n",
    "\\end{bmatrix}\n",
    "=\n",
    "\\frac{1}{-20}\n",
    "\\begin{bmatrix}\n",
    "-18 \\\\\n",
    "-16\n",
    "\\end{bmatrix}\n",
    "\\]\n",
    "\n",
    "\\[\n",
    "X =\n",
    "\\begin{bmatrix}\n",
    "0.9 \\\\\n",
    "0.8\n",
    "\\end{bmatrix}\n",
    "\\quad \\Rightarrow \\quad\n",
    "x = 0.9,\\; y = 0.8\n",
    "\\]\n",
    " $"
   ]
  },
  {
   "cell_type": "code",
   "execution_count": 2,
   "id": "9aa9c825-8dda-488b-bcca-e77090885d8f",
   "metadata": {},
   "outputs": [
    {
     "name": "stdout",
     "output_type": "stream",
     "text": [
      "해: [0.9 0.8]\n",
      "x = 0.9, y = 0.8\n"
     ]
    }
   ],
   "source": [
    "import numpy as np\n",
    "\n",
    "# 계수 행렬 A\n",
    "A = np.array([[2, 4],\n",
    "              [6, 2]])\n",
    "\n",
    "# 상수 벡터 B\n",
    "B = np.array([5, 7])\n",
    "\n",
    "# 해 구하기 (X = A^{-1}B)\n",
    "X = np.linalg.solve(A, B)\n",
    "\n",
    "print(\"해:\", X)\n",
    "print(f\"x = {X[0]}, y = {X[1]}\")"
   ]
  },
  {
   "cell_type": "markdown",
   "id": "99ff7ee2-f79a-4ca9-ba31-be49c81f910e",
   "metadata": {},
   "source": [
    "$\\[\n",
    "\\text{주어진 연립방정식:}\n",
    "\\]\n",
    "\n",
    "\\[\n",
    "\\begin{cases}\n",
    "2x + 4y = 5 \\\\\n",
    "6x + 2y = 7\n",
    "\\end{cases}\n",
    "\\]\n",
    "\n",
    "\\[\n",
    "\\text{이를 행렬 형태로 쓰면: }\n",
    "\\quad\n",
    "\\begin{bmatrix}\n",
    "2 & 4 \\\\\n",
    "6 & 2\n",
    "\\end{bmatrix}\n",
    "\\begin{bmatrix}\n",
    "x \\\\\n",
    "y\n",
    "\\end{bmatrix}\n",
    "=\n",
    "\\begin{bmatrix}\n",
    "5 \\\\\n",
    "7\n",
    "\\end{bmatrix}\n",
    "\\]\n",
    "\n",
    "\\[\n",
    "AX = B, \\quad X = A^{-1}B\n",
    "\\]\n",
    "\n",
    "\\[\n",
    "A =\n",
    "\\begin{bmatrix}\n",
    "2 & 4 \\\\\n",
    "6 & 2\n",
    "\\end{bmatrix},\n",
    "\\quad\n",
    "B =\n",
    "\\begin{bmatrix}\n",
    "5 \\\\\n",
    "7\n",
    "\\end{bmatrix}\n",
    "\\]\n",
    "\n",
    "\\[\n",
    "\\det(A) = (2)(2) - (6)(4) = 4 - 24 = -20\n",
    "\\]\n",
    "\n",
    "\\[\n",
    "A^{-1} =\n",
    "\\frac{1}{\\det(A)}\n",
    "\\begin{bmatrix}\n",
    "2 & -4 \\\\\n",
    "-6 & 2\n",
    "\\end{bmatrix}\n",
    "=\n",
    "\\frac{1}{-20}\n",
    "\\begin{bmatrix}\n",
    "2 & -4 \\\\\n",
    "-6 & 2\n",
    "\\end{bmatrix}\n",
    "\\]\n",
    "\n",
    "\\[\n",
    "X = A^{-1}B =\n",
    "\\frac{1}{-20}\n",
    "\\begin{bmatrix}\n",
    "2 & -4 \\\\\n",
    "-6 & 2\n",
    "\\end{bmatrix}\n",
    "\\begin{bmatrix}\n",
    "5 \\\\\n",
    "7\n",
    "\\end{bmatrix}\n",
    "\\]\n",
    "\n",
    "\\[\n",
    "=\n",
    "\\frac{1}{-20}\n",
    "\\begin{bmatrix}\n",
    "2\\cdot 5 + (-4)\\cdot 7 \\\\\n",
    "-6\\cdot 5 + 2\\cdot 7\n",
    "\\end{bmatrix}\n",
    "=\n",
    "\\frac{1}{-20}\n",
    "\\begin{bmatrix}\n",
    "-18 \\\\\n",
    "-16\n",
    "\\end{bmatrix}\n",
    "\\]\n",
    "\n",
    "\\[\n",
    "X =\n",
    "\\begin{bmatrix}\n",
    "0.9 \\\\\n",
    "0.8\n",
    "\\end{bmatrix}\n",
    "\\quad \\Rightarrow \\quad\n",
    "x = 0.9,\\; y = 0.8\n",
    "\\]\n",
    "$"
   ]
  },
  {
   "cell_type": "code",
   "execution_count": 4,
   "id": "4d3b9f03-d285-48ed-b299-75e65fb69620",
   "metadata": {},
   "outputs": [
    {
     "data": {
      "text/plain": [
       "True"
      ]
     },
     "execution_count": 4,
     "metadata": {},
     "output_type": "execute_result"
    }
   ],
   "source": [
    "x = 0.9\n",
    "y = 0.8\n",
    "2*x+3*y - 5 < 0.001"
   ]
  },
  {
   "cell_type": "code",
   "execution_count": 5,
   "id": "3b6e5059-517c-4e99-93a6-d4d9a12d501f",
   "metadata": {},
   "outputs": [
    {
     "data": {
      "text/plain": [
       "True"
      ]
     },
     "execution_count": 5,
     "metadata": {},
     "output_type": "execute_result"
    }
   ],
   "source": [
    "6*x+2*y - 7 < 0.001"
   ]
  },
  {
   "cell_type": "code",
   "execution_count": null,
   "id": "0b819c9e-571c-4a41-a9e3-a589987d6bd0",
   "metadata": {},
   "outputs": [],
   "source": [
    "import numpy as np\n"
   ]
  },
  {
   "cell_type": "code",
   "execution_count": 4,
   "id": "2fdcd92b-7af0-41d0-9199-ade4e7081d53",
   "metadata": {},
   "outputs": [
    {
     "data": {
      "text/plain": [
       "True"
      ]
     },
     "execution_count": 4,
     "metadata": {},
     "output_type": "execute_result"
    }
   ],
   "source": [
    "x = 0.9\n",
    "y = 0.8\n",
    "2*x+3*y - 5 < 0.001"
   ]
  },
  {
   "cell_type": "code",
   "execution_count": null,
   "id": "776142e6-bf53-4d0b-af32-58fe129446da",
   "metadata": {},
   "outputs": [],
   "source": [
    "import numpy as np"
   ]
  },
  {
   "cell_type": "code",
   "execution_count": 9,
   "id": "0884e098-1a22-4ac8-8b34-a404f914fecc",
   "metadata": {},
   "outputs": [
    {
     "data": {
      "text/plain": [
       "array([[ 1,  3,  5],\n",
       "       [ 3,  4,  6],\n",
       "       [-1,  3,  5]])"
      ]
     },
     "execution_count": 9,
     "metadata": {},
     "output_type": "execute_result"
    }
   ],
   "source": [
    "x1 = np.array([ [1,3,5],\n",
    "     [3 ,4, 6],\n",
    "     [-1,3,5]])\n",
    "x1"
   ]
  },
  {
   "cell_type": "code",
   "execution_count": 16,
   "id": "2332bccf-da0b-497a-ace8-36006f972cbd",
   "metadata": {},
   "outputs": [
    {
     "data": {
      "text/plain": [
       "array([[ 1.00000000e+00, -6.66133815e-16, -6.66133815e-16],\n",
       "       [ 0.00000000e+00,  1.00000000e+00, -4.44089210e-16],\n",
       "       [-1.77635684e-15,  1.11022302e-15,  1.00000000e+00]])"
      ]
     },
     "execution_count": 16,
     "metadata": {},
     "output_type": "execute_result"
    }
   ],
   "source": [
    "xy= np.linalg.inv(x1)\n",
    "result = np.dot(x1,xy)\n",
    "result"
   ]
  },
  {
   "cell_type": "code",
   "execution_count": 17,
   "id": "636bf6e1-442b-4a6b-9222-af239d74da0e",
   "metadata": {},
   "outputs": [
    {
     "data": {
      "text/plain": [
       "array([[ 1., -0., -0.],\n",
       "       [ 0.,  1., -0.],\n",
       "       [-0.,  0.,  1.]])"
      ]
     },
     "execution_count": 17,
     "metadata": {},
     "output_type": "execute_result"
    }
   ],
   "source": [
    "# 불필요한 소수점 오차를 없애기 위해 반올림\n",
    "I_clean = np.round(result, decimals=6)  # 소수점 6자리까지 반올림\n",
    "I_clean"
   ]
  },
  {
   "cell_type": "code",
   "execution_count": 30,
   "id": "6e34a706-f392-4c1b-a83c-f71205a41b09",
   "metadata": {},
   "outputs": [
    {
     "data": {
      "text/plain": [
       "array([[ 1.00000000e+00, -6.66133815e-16, -6.66133815e-16],\n",
       "       [ 0.00000000e+00,  1.00000000e+00, -4.44089210e-16],\n",
       "       [-1.77635684e-15,  1.11022302e-15,  1.00000000e+00]])"
      ]
     },
     "execution_count": 30,
     "metadata": {},
     "output_type": "execute_result"
    }
   ],
   "source": [
    "y1 = np.array ([ \n",
    "     [1,3,5],\n",
    "     [3 ,4, 6],\n",
    "     [-1,3,5]\n",
    "])\n",
    "b=np.array([11,3,11])\n",
    "inv_y1 = np.linalg.inv(y1)\n",
    "result = np.dot(y1,inv_y1)\n",
    "result"
   ]
  },
  {
   "cell_type": "code",
   "execution_count": 32,
   "id": "88ea744e-1390-4f57-baa9-740a0cfb09b8",
   "metadata": {},
   "outputs": [
    {
     "data": {
      "text/plain": [
       "array([[ 1., -0., -0.],\n",
       "       [ 0.,  1., -0.],\n",
       "       [-0.,  0.,  1.]])"
      ]
     },
     "execution_count": 32,
     "metadata": {},
     "output_type": "execute_result"
    }
   ],
   "source": [
    "I_clean = np.round(result_identity, decimals=6)\n",
    "I_clean"
   ]
  },
  {
   "cell_type": "code",
   "execution_count": 33,
   "id": "bde4776f-457b-4d4a-af6a-3264fba9b971",
   "metadata": {},
   "outputs": [
    {
     "ename": "NameError",
     "evalue": "name 'yy' is not defined",
     "output_type": "error",
     "traceback": [
      "\u001b[1;31m---------------------------------------------------------------------------\u001b[0m",
      "\u001b[1;31mNameError\u001b[0m                                 Traceback (most recent call last)",
      "Cell \u001b[1;32mIn[33], line 1\u001b[0m\n\u001b[1;32m----> 1\u001b[0m solution \u001b[38;5;241m=\u001b[39m np\u001b[38;5;241m.\u001b[39mdot(yy,b)\n\u001b[0;32m      2\u001b[0m np\u001b[38;5;241m.\u001b[39mround(solution,decimals\u001b[38;5;241m=\u001b[39m\u001b[38;5;241m6\u001b[39m)\n",
      "\u001b[1;31mNameError\u001b[0m: name 'yy' is not defined"
     ]
    }
   ],
   "source": [
    "solution = np.dot(yy,b)\n",
    "np.round(solution,decimals=6)"
   ]
  },
  {
   "cell_type": "code",
   "execution_count": 29,
   "id": "bc3fd3f6-f0dc-4cfa-a02e-470d09ba9bd4",
   "metadata": {},
   "outputs": [
    {
     "ename": "SyntaxError",
     "evalue": "closing parenthesis ')' does not match opening parenthesis '[' (2228025824.py, line 1)",
     "output_type": "error",
     "traceback": [
      "\u001b[1;36m  Cell \u001b[1;32mIn[29], line 1\u001b[1;36m\u001b[0m\n\u001b[1;33m    array([0. -25.5, 17.5)]\u001b[0m\n\u001b[1;37m                         ^\u001b[0m\n\u001b[1;31mSyntaxError\u001b[0m\u001b[1;31m:\u001b[0m closing parenthesis ')' does not match opening parenthesis '['\n"
     ]
    }
   ],
   "source": [
    "array([0. -25.5, 17.5)]"
   ]
  },
  {
   "cell_type": "code",
   "execution_count": 28,
   "id": "cbd8f446-0b12-4455-abe3-ac5cde686a63",
   "metadata": {},
   "outputs": [
    {
     "data": {
      "text/plain": [
       "False"
      ]
     },
     "execution_count": 28,
     "metadata": {},
     "output_type": "execute_result"
    }
   ],
   "source": [
    "x11= 0.\n",
    "x12= -25.5\n",
    "x13= 17.5\n",
    "3*x11 + 4*12 + 6*13- 11 <0.0001"
   ]
  }
 ],
 "metadata": {
  "kernelspec": {
   "display_name": "Python [conda env:base] *",
   "language": "python",
   "name": "conda-base-py"
  },
  "language_info": {
   "codemirror_mode": {
    "name": "ipython",
    "version": 3
   },
   "file_extension": ".py",
   "mimetype": "text/x-python",
   "name": "python",
   "nbconvert_exporter": "python",
   "pygments_lexer": "ipython3",
   "version": "3.13.5"
  }
 },
 "nbformat": 4,
 "nbformat_minor": 5
}
