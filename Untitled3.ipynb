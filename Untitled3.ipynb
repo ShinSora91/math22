{
 "cells": [
  {
   "cell_type": "code",
   "execution_count": null,
   "id": "ed6fef59-77a2-4614-baa7-a677a2e52869",
   "metadata": {},
   "outputs": [],
   "source": []
  }
 ],
 "metadata": {
  "kernelspec": {
   "display_name": "",
   "name": ""
  },
  "language_info": {
   "name": ""
  }
 },
 "nbformat": 4,
 "nbformat_minor": 5
}
