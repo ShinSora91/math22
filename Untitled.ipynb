{
 "cells": [
  {
   "cell_type": "code",
   "execution_count": null,
   "id": "b4102c9c-5dd5-4768-ad4b-46363160462d",
   "metadata": {},
   "outputs": [],
   "source": [
    "aa=5"
   ]
  },
  {
   "cell_type": "code",
   "execution_count": null,
   "id": "e64a4348-9b89-45fa-bbcb-dcd9662d5551",
   "metadata": {},
   "outputs": [],
   "source": [
    "aa=5"
   ]
  },
  {
   "cell_type": "markdown",
   "id": "df52c694-5aa0-4cd1-b966-fdfd78a79e4d",
   "metadata": {},
   "source": [
    "<h1>항공학과</h1>\n",
    "<ul>\n",
    "    <li style=\"color:red\">광고1</li>\n",
    "    <li>광고2</li>\n",
    "    <li>광고3</li>\n",
    "</ul>"
   ]
  },
  {
   "cell_type": "markdown",
   "id": "838cd1ed-631a-416f-8644-64bae7d4ae74",
   "metadata": {},
   "source": [
    "$ \\sum_{i=1}^{5} (6i^2 +7i) $"
   ]
  },
  {
   "cell_type": "code",
   "execution_count": null,
   "id": "7d8203a7-9606-4ea8-a002-623acd631db8",
   "metadata": {},
   "outputs": [],
   "source": [
    "s=0\n",
    "for i in range(5):\n",
    "    s+=6*(i+1)**2 + 7*(i+1)\n",
    "s"
   ]
  },
  {
   "cell_type": "code",
   "execution_count": null,
   "id": "765d3a9b-515e-4e8d-83a8-273a65bf94c7",
   "metadata": {},
   "outputs": [],
   "source": [
    "li=[3,5,6,7,9]\n",
    "for i in range(5):\n",
    "    print(li[i])"
   ]
  },
  {
   "cell_type": "code",
   "execution_count": null,
   "id": "e4261ba8-a12a-43f4-9071-53e44587a758",
   "metadata": {},
   "outputs": [],
   "source": [
    "li=[3,5,6,7,9]\n",
    "[i*2 for i in li if i%3==0]"
   ]
  },
  {
   "cell_type": "code",
   "execution_count": null,
   "id": "f127bfda-7e61-4282-b875-14f42135ac60",
   "metadata": {},
   "outputs": [],
   "source": [
    "li=[3,5,6,7,9]\n",
    "[i*2 for i in li] # list comprehension"
   ]
  },
  {
   "cell_type": "code",
   "execution_count": null,
   "id": "5dcd008b-ccf8-477e-9872-ffc5b2b0d9e1",
   "metadata": {},
   "outputs": [],
   "source": [
    "li = [2,3,4,6,8]\n",
    "import numpy as np"
   ]
  },
  {
   "cell_type": "code",
   "execution_count": null,
   "id": "0f45dbfd-65b8-4c77-b9e0-a44942aa866b",
   "metadata": {},
   "outputs": [],
   "source": [
    "np.log(li)"
   ]
  },
  {
   "cell_type": "code",
   "execution_count": null,
   "id": "20bdad33-896a-432a-9121-6306a474863d",
   "metadata": {},
   "outputs": [],
   "source": [
    "na=[2,3,4,5] #2^3 , 3^3, 4^3, 5^3\n",
    "sum1=0\n",
    "for i in na:\n",
    "    sum1+=i**3\n",
    "sum1"
   ]
  },
  {
   "cell_type": "code",
   "execution_count": 1,
   "id": "8457a3df-cc21-4440-9641-d946e0415833",
   "metadata": {},
   "outputs": [
    {
     "data": {
      "text/plain": [
       "224"
      ]
     },
     "execution_count": 1,
     "metadata": {},
     "output_type": "execute_result"
    }
   ],
   "source": [
    "na=[2,3,4,5]\n",
    "sum([i **3 for i in na])"
   ]
  },
  {
   "cell_type": "code",
   "execution_count": null,
   "id": "70e3ff1c-b335-4af3-9de3-04b2e986d8fb",
   "metadata": {},
   "outputs": [],
   "source": [
    "na[0]**3"
   ]
  },
  {
   "cell_type": "code",
   "execution_count": 2,
   "id": "c8c43fa2-7b61-4771-86b2-b9d9e539b0d9",
   "metadata": {},
   "outputs": [
    {
     "data": {
      "text/plain": [
       "[8, 27, 64, 125]"
      ]
     },
     "execution_count": 2,
     "metadata": {},
     "output_type": "execute_result"
    }
   ],
   "source": [
    "[pow(i,3) for i in na]"
   ]
  },
  {
   "cell_type": "code",
   "execution_count": 15,
   "id": "f728105e-3625-4d53-ad8d-c0de28f88099",
   "metadata": {},
   "outputs": [],
   "source": [
    "li2=    [\n",
    "        {\"a\":[1,2,3,4]},\n",
    "        {\"a\":[11,22,33,14]},\n",
    "        {\"a\":[21,22,23,24]},\n",
    "        {\"a\":[41,42,43,54]}\n",
    "    ]\n",
    "li2[0]['a']"
   ]
  },
  {
   "cell_type": "code",
   "execution_count": 11,
   "id": "7586e425-fec6-440b-bf89-7c0fb73ba77f",
   "metadata": {},
   "outputs": [
    {
     "data": {
      "text/plain": [
       "{'a1': 7, 'a2': 27, 'a3': 0, 'a4': 0}"
      ]
     },
     "execution_count": 11,
     "metadata": {},
     "output_type": "execute_result"
    }
   ],
   "source": [
    "dict2={'a1':0,'a2':0,'a3':0,'a4':0}\n",
    "dict2['a1']=7\n",
    "dict2['a2']=27\n",
    "dict2"
   ]
  },
  {
   "cell_type": "code",
   "execution_count": 27,
   "id": "f5770ed9-9237-404a-ba85-fa42d19b7415",
   "metadata": {},
   "outputs": [
    {
     "data": {
      "text/plain": [
       "[14, 21, 28, 35]"
      ]
     },
     "execution_count": 27,
     "metadata": {},
     "output_type": "execute_result"
    }
   ],
   "source": [
    "list(map(lambda x: x*7, [2,3,4,5]))"
   ]
  },
  {
   "cell_type": "code",
   "execution_count": 31,
   "id": "2ade1086-11d9-4804-9d98-9304cb552d04",
   "metadata": {},
   "outputs": [
    {
     "name": "stdout",
     "output_type": "stream",
     "text": [
      "10\n",
      "80\n",
      "90\n",
      "180\n"
     ]
    }
   ],
   "source": [
    "for i in li2:\n",
    "    print(f(i['a']))"
   ]
  },
  {
   "cell_type": "code",
   "execution_count": 18,
   "id": "4ff501e4-5975-4162-89b9-643c8a464c28",
   "metadata": {},
   "outputs": [],
   "source": [
    "def f(i):\n",
    "    s=0\n",
    "    for j in i:\n",
    "        s+=j\n",
    "    return s"
   ]
  },
  {
   "cell_type": "code",
   "execution_count": 34,
   "id": "1a0817b3-a002-40b6-a4cb-7d87239282d8",
   "metadata": {},
   "outputs": [
    {
     "data": {
      "text/plain": [
       "{'a1': 10, 'a2': 80, 'a3': 90, 'a4': 180}"
      ]
     },
     "execution_count": 34,
     "metadata": {},
     "output_type": "execute_result"
    }
   ],
   "source": [
    "dict2={'a1':0,'a2':0,'a3':0,'a4':0}\n",
    "for (idx, i) in enumerate(li2): #enumerate는 index와 data를 반환\n",
    "    # print(idx, i)\n",
    "    dict2['a'+str(idx+1)] = f(i['a'])\n",
    "dict2"
   ]
  }
 ],
 "metadata": {
  "kernelspec": {
   "display_name": "Python 3 (ipykernel)",
   "language": "python",
   "name": "python3"
  },
  "language_info": {
   "codemirror_mode": {
    "name": "ipython",
    "version": 3
   },
   "file_extension": ".py",
   "mimetype": "text/x-python",
   "name": "python",
   "nbconvert_exporter": "python",
   "pygments_lexer": "ipython3",
   "version": "3.13.5"
  }
 },
 "nbformat": 4,
 "nbformat_minor": 5
}
